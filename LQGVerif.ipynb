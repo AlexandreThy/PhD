{
 "cells": [
  {
   "cell_type": "code",
   "execution_count": 2,
   "metadata": {},
   "outputs": [],
   "source": [
    "from Helpers import *"
   ]
  },
  {
   "cell_type": "markdown",
   "metadata": {},
   "source": [
    "# CHECKING"
   ]
  },
  {
   "cell_type": "code",
   "execution_count": 108,
   "metadata": {},
   "outputs": [],
   "source": [
    "def LQG(Duration,w1,w2,w3,w4,r1,r2,targets = [0,55],starting_point = [0,20],ForceField = [0,0],plot = True,ForceFieldSpan = [0,0.6],Noise_Variance = 1e-6,newtonfunc = f,newtondfunc = df,Num_iter = 60):\n",
    "    \n",
    "    dt = Duration/Num_iter\n",
    "\n",
    "    obj1,obj2 = newton(newtonfunc,newtondfunc,1e-8,1000,targets[0],targets[1]) #Defini les targets\n",
    "    st1,st2 = newton(newtonfunc,newtondfunc,1e-8,1000,starting_point[0],starting_point[1])\n",
    "\n",
    "    xstart = np.array([st1,0,0,st2,0,0,obj1,0,obj2,0])\n",
    "    x0 = np.array([st1,0,0,st2,0,0,obj1,obj2])\n",
    "    Num_Var = 8\n",
    "    \n",
    "    #Define Weight Matrices\n",
    "\n",
    "    R = np.array([[r1,0],[0,r2]])\n",
    "    Q = np.array([[w1,0,0,0,0,0,-w1,0],[0,w2,0,0,0,0,0,0],[0,0,0,0,0,0,0,0],\n",
    "             [0,0,0,w3,0,0,0,-w3],[0,0,0,0,w4,0,0,0],[0,0,0,0,0,0,0,0],\n",
    "             [-w1,0,0,0,0,0,w1,0],[0,0,0,-w3,0,0,0,w3]])\n",
    "    \n",
    "    \n",
    "    #Define Dynamic Matrices  \n",
    "\n",
    "    A = np.array([[1,dt,0,0,0,0,0,0],[0,1+dt*(-0.5*a1+0.025*a3)/((a1-a3)*a3),dt*a1/((a1-a3)*a3),0,dt*(-0.025*a1+0.5*a3)/((a1-a3)*a3),dt/(a3-a1),0,0],\n",
    "     [0,0,1-dt/tau,0,0,0,0,0],[0,0,0,1,dt,0,0,0],[0,dt*0.475/(a1-a3),-dt/(a1-a3),0,1-dt*0.475/(a1-a3),dt/(a1-a3),0,0],\n",
    "     [0,0,0,0,0,1-dt/tau,0,0],[0,0,0,0,0,0,1,0],[0,0,0,0,0,0,0,1]])\n",
    "\n",
    "    B = np.transpose([[0,0,dt/tau,0,0,0,0,0],[0,0,0,0,0,dt/tau,0,0]])\n",
    "    \n",
    "    S = Q\n",
    "\n",
    "    \n",
    "    array_L = np.zeros((Num_iter-1,2,Num_Var))   \n",
    "    array_S = np.zeros((Num_iter,Num_Var,Num_Var)) \n",
    "    array_S[-1] = Q\n",
    "    for k in range(Num_iter-1):\n",
    "        L = np.linalg.inv(R+B.T@S@B)@B.T@S@A\n",
    "        array_L[Num_iter-2-k] = L\n",
    "        S = A.T@S@(A-B@L)\n",
    "        array_S[Num_iter-2-k] = S\n",
    "        \n",
    "    #print(array_L[0])\n",
    "    #Feedback\n",
    "    H,L= np.identity(8),array_L\n",
    "        \n",
    "    array_x = np.zeros((Num_iter,Num_Var))\n",
    "    array_xhat = np.zeros((Num_iter,Num_Var))\n",
    "    y = np.zeros((Num_iter,Num_Var))\n",
    "\n",
    "    array_x[0] = x0.flatten()\n",
    "    array_xhat[0] = x0.flatten()\n",
    "    xhat = x0\n",
    "    x = x0\n",
    "    J = 0\n",
    "    sigma = np.identity(Num_Var)*10**-6 #Espérance de (erreur erreur^) avec erreur = x - xhat\n",
    "    for k in range(Num_iter-1):\n",
    "        F = ForceField if ((k*dt > ForceFieldSpan[0]) and (k*dt < ForceFieldSpan[1])) else [0,0]\n",
    "             \n",
    "        Omega_sens,motor_noise,Omega_measure,measure_noise = Compute_Noise(Num_Var,Noise_Variance)\n",
    "        \n",
    "    \n",
    "        y[k] = (H@x).flatten()\n",
    "        K = A@sigma@H.T@np.linalg.inv(H@sigma@H.T+Omega_measure)\n",
    "        sigma = Omega_sens + (A - K@H)@sigma@A.T\n",
    "        u = - L[k].reshape(np.flip(B.shape))@xhat\n",
    "        J+= u.T@R@u\n",
    "        xhat = A@xhat + B@u + K@(y[k]-H@xhat)\n",
    "        x = A@x+B@u+ np.array([0,0,dt/tau*F[0],0,0,dt/tau*F[1],0,0]).flatten()\n",
    "        array_xhat[k+1] = xhat.flatten()\n",
    "        array_x[k+1]= x.flatten()\n",
    "\n",
    "        #print(array_x[k-1,2],((array_x[k]-array_x[k-1])/dt)[1])   \n",
    "\n",
    "#Plot\n",
    "    J+= x.T@Q@x\n",
    "    x0 = xstart\n",
    "    x_nonlin = array_x.T[:,1:][:,::1]\n",
    "    X = np.cos(x_nonlin[0]+x_nonlin[3])*33+np.cos(x_nonlin[0])*30\n",
    "    Y = np.sin(x_nonlin[0]+x_nonlin[3])*33+np.sin(x_nonlin[0])*30\n",
    "\n",
    "    if plot:\n",
    "        plt.plot(X,Y,color = \"green\",label = \"LQG\",linewidth = .8)\n",
    "        plt.axis(\"equal\")\n",
    "        plt.scatter([targets[0]],[targets[1]])\n",
    "\n",
    "    return array_xhat,J"
   ]
  },
  {
   "cell_type": "code",
   "execution_count": 61,
   "metadata": {},
   "outputs": [],
   "source": [
    "def Compute_Noise(NbreVar,Variance):\n",
    "\n",
    "    Omega_sens = np.diag(np.ones(NbreVar)*Variance)\n",
    "    motor_noise = np.random.normal(0,np.sqrt(Variance),NbreVar).T\n",
    "    Omega_measure = np.diag(np.ones(NbreVar)*Variance)\n",
    "    measure_noise = np.random.normal(0,np.sqrt(Variance),NbreVar).T\n",
    "\n",
    "    return Omega_sens,motor_noise,Omega_measure,measure_noise\n"
   ]
  },
  {
   "cell_type": "code",
   "execution_count": 111,
   "metadata": {},
   "outputs": [],
   "source": [
    "def LQG2(Duration,w1,w2,w3,w4,r1,r2,targets = [0,55],starting_point = [0,20],ForceField = [0,0],plot = True,ForceFieldSpan = [0,0.6],Noise_Variance = 1e-6,newtonfunc = f,newtondfunc = df,Num_iter = 60):\n",
    "    \n",
    "    dt = Duration/Num_iter\n",
    "\n",
    "    obj1,obj2 = newton(newtonfunc,newtondfunc,1e-8,1000,targets[0],targets[1]) #Defini les targets\n",
    "    st1,st2 = newton(newtonfunc,newtondfunc,1e-8,1000,starting_point[0],starting_point[1])\n",
    "\n",
    "    xstart = np.array([st1,0,0,st2,0,0,obj1,0,obj2,0])\n",
    "    x0 = np.array([st1,0,0,st2,0,0,obj1,obj2])\n",
    "    Num_Var = 8\n",
    "    \n",
    "    #Define Weight Matrices\n",
    "\n",
    "    R = np.array([[r1,0],[0,r2]])\n",
    "    Q = np.array([[w1,0,0,0,0,0,-w1,0],[0,w2,0,0,0,0,0,0],[0,0,0,0,0,0,0,0],\n",
    "             [0,0,0,w3,0,0,0,-w3],[0,0,0,0,w4,0,0,0],[0,0,0,0,0,0,0,0],\n",
    "             [-w1,0,0,0,0,0,w1,0],[0,0,0,-w3,0,0,0,w3]])\n",
    "    \n",
    "    \n",
    "    #Define Dynamic Matrices  \n",
    "\n",
    "    A = np.array([[1,dt,0,0,0,0,0,0],[0,1+dt*(-0.5*a1+0.025*a3)/((a1-a3)*a3),dt*a1/((a1-a3)*a3),0,dt*(-0.025*a1+0.5*a3)/((a1-a3)*a3),dt/(a3-a1),0,0],\n",
    "     [0,0,1-dt/tau,0,0,0,0,0],[0,0,0,1,dt,0,0,0],[0,dt*0.475/(a1-a3),-dt/(a1-a3),0,1-dt*0.475/(a1-a3),dt/(a1-a3),0,0],\n",
    "     [0,0,0,0,0,1-dt/tau,0,0],[0,0,0,0,0,0,1,0],[0,0,0,0,0,0,0,1]])\n",
    "\n",
    "    B = np.transpose([[0,0,dt/tau,0,0,0,0,0],[0,0,0,0,0,dt/tau,0,0]])\n",
    "    \n",
    "    S = Q\n",
    "\n",
    "    \n",
    "    array_L = np.zeros((Num_iter-1,2,Num_Var))   \n",
    "    array_S = np.zeros((Num_iter,Num_Var,Num_Var)) \n",
    "    array_S[-1] = Q\n",
    "    for k in range(Num_iter-1):\n",
    "        L = np.linalg.inv(R+B.T@S@B)@B.T@S@A\n",
    "        array_L[Num_iter-2-k] = L\n",
    "        S = A.T@S@(A-B@L)\n",
    "        array_S[Num_iter-2-k] = S\n",
    "        \n",
    "    #print(array_L[0])\n",
    "    #Feedback\n",
    "    H,L= np.identity(8),array_L\n",
    "        \n",
    "    array_x = np.zeros((Num_iter,Num_Var))\n",
    "    array_xhat = np.zeros((Num_iter,Num_Var))\n",
    "    y = np.zeros((Num_iter,Num_Var))\n",
    "\n",
    "    array_x[0] = x0.flatten()\n",
    "    array_xhat[0] = x0.flatten()\n",
    "    xhat = x0\n",
    "    x = x0\n",
    "\n",
    "    Pplus = np.zeros((Num_Var,Num_Var))\n",
    "    J = 0\n",
    "    for k in range(Num_iter-1):\n",
    "        F = ForceField if ((k*dt > ForceFieldSpan[0]) and (k*dt < ForceFieldSpan[1])) else [0,0]\n",
    "             \n",
    "        Omega_sens,motor_noise,Omega_measure,measure_noise = Compute_Noise(Num_Var,Noise_Variance)\n",
    "        \n",
    "        Pminus = A@Pplus@A.T+Omega_sens\n",
    "        K = Pplus@H.T@np.linalg.inv(Omega_measure)\n",
    "        u = -L[k].reshape(np.flip(B.shape))@xhat\n",
    "        x = A@x+B@u + np.array([0,0,dt/tau*F[0],0,0,dt/tau*F[1],0,0]).flatten()\n",
    "        y[k] = (H@x).flatten()\n",
    "\n",
    "        Pplus = (np.identity(Num_Var)-K@H)@Pminus\n",
    "        xp = A@xhat + B@u\n",
    "        J+= u.T@R@u\n",
    "        xhat = xp + K@(y[k]-H@xp)\n",
    "        array_xhat[k+1] = xhat.flatten()\n",
    "        array_x[k+1]= x.flatten()\n",
    "\n",
    "        #print(array_x[k-1,2],((array_x[k]-array_x[k-1])/dt)[1])   \n",
    "\n",
    "#Plot\n",
    "    J+=x.T@Q@x\n",
    "    x0 = xstart\n",
    "    x_nonlin = array_x.T[:,1:][:,::1]\n",
    "    X = np.cos(x_nonlin[0]+x_nonlin[3])*33+np.cos(x_nonlin[0])*30\n",
    "    Y = np.sin(x_nonlin[0]+x_nonlin[3])*33+np.sin(x_nonlin[0])*30\n",
    "\n",
    "    if plot:\n",
    "        plt.plot(X,Y,color = \"red\",label = \"LQG new Kalman Filter\",linewidth = .8)\n",
    "        plt.axis(\"equal\")\n",
    "        plt.scatter([targets[0]],[targets[1]])\n",
    "\n",
    "    return array_xhat,J"
   ]
  },
  {
   "cell_type": "code",
   "execution_count": 116,
   "metadata": {},
   "outputs": [
    {
     "name": "stdout",
     "output_type": "stream",
     "text": [
      "0.006435309589988518 0.006412965157303329\n"
     ]
    },
    {
     "data": {
      "text/plain": [
       "<matplotlib.legend.Legend at 0x221df1b28f0>"
      ]
     },
     "execution_count": 116,
     "metadata": {},
     "output_type": "execute_result"
    },
    {
     "data": {
      "image/png": "[encoded data removed]",
      "text/plain": [
       "<Figure size 432x288 with 1 Axes>"
      ]
     },
     "metadata": {
      "needs_background": "light"
     },
     "output_type": "display_data"
    }
   ],
   "source": [
    "_,J1= LQG(0.6,1e6,1e6,1e4,1e4,1e-5,1e-5,targets = [0,55],starting_point = [0,20],ForceField = [20,0],ForceFieldSpan= [0.2,0.22],plot = True,Noise_Variance=1e-6)\n",
    "_,J2= LQG2(0.6,1e6,1e6,1e4,1e4,1e-5,1e-5,targets = [0,55],starting_point = [0,20],ForceField = [20,0],ForceFieldSpan= [0.2,0.22],plot = True,Noise_Variance=1e-6)\n",
    "print(J1,J2)\n",
    "plt.legend()\n",
    "    "
   ]
  }
 ],
 "metadata": {
  "kernelspec": {
   "display_name": "Python 3",
   "language": "python",
   "name": "python3"
  },
  "language_info": {
   "codemirror_mode": {
    "name": "ipython",
    "version": 3
   },
   "file_extension": ".py",
   "mimetype": "text/x-python",
   "name": "python",
   "nbconvert_exporter": "python",
   "pygments_lexer": "ipython3",
   "version": "3.10.4"
  }
 },
 "nbformat": 4,
 "nbformat_minor": 2
}
