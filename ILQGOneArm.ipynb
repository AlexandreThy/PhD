{
 "cells": [
  {
   "cell_type": "code",
   "execution_count": null,
   "metadata": {},
   "outputs": [],
   "source": [
    "from Helpers import *\n",
    "from Controller import *"
   ]
  },
  {
   "cell_type": "code",
   "execution_count": null,
   "metadata": {},
   "outputs": [],
   "source": [
    "def f(x,u):\n",
    "    g = 9.81\n",
    "    L = .5\n",
    "    #return np.array([x[1],-g/L*x[0]+u[0]])\n",
    "    return np.array([x[1],-g/L*sin(x[0])+u[0]])\n",
    "\n",
    "def fx(x,u):\n",
    "    g = 9.81\n",
    "    L = .5\n",
    "    return np.array([[0,1],[-g/L*cos(x[0]),0]])\n",
    "    #return np.array([[0,1],[-g/L,0]])\n",
    "\n",
    "def fu(x,u):\n",
    "    return np.array([0,1]).reshape((2,1))\n",
    "\n",
    "def l(x,u,r1):\n",
    "    return r1*u[0]**2\n",
    "\n",
    "def lx(x,u):\n",
    "    return np.zeros(2)\n",
    "\n",
    "def lu(x,u,r1):\n",
    "    return r1*2*u[0]\n",
    "\n",
    "def lxx(x,u):\n",
    "    return np.zeros((2,2))\n",
    "\n",
    "def luu(x,u,r1):\n",
    "    return r1*2\n",
    "\n",
    "def h(x,w1,w2,xtarg):\n",
    "    return w1*((x[0]-xtarg)*(x[0]-xtarg)) + w2*x[1]*x[1]\n",
    "\n",
    "def hx(x,w1,w2,xtarg):\n",
    "    return np.array([w1*2*(x[0]-xtarg),w2*2*x[1]])\n",
    "\n",
    "def hxx(x,w1,w2):\n",
    "    return np.array([[w1*2,0],[0,w2*2]])"
   ]
  },
  {
   "cell_type": "code",
   "execution_count": null,
   "metadata": {},
   "outputs": [],
   "source": [
    "def plotLQGvsILQG(xLQG,uLQG,xILQG,uILQG,JLQG,JILQG,Duration,xtarg,K):\n",
    "    fig,ax = plt.subplots(2,figsize = (8,10))\n",
    "    ax[0].plot(np.linspace(0,Duration,K),xLQG[:,0]/(2*pi)*360,label = \"LQG\")\n",
    "    ax[0].plot(np.linspace(0,Duration,K),xILQG[:,0]/(2*pi)*360,label = \"ILQG\")\n",
    "    ax[0].plot(np.linspace(0,Duration,K),np.ones(K)*xtarg/(2*pi)*360,color = \"black\", linestyle = \"--\",alpha = .5)\n",
    "    ax[0].set_xlabel(\"Time [sec]\")\n",
    "    ax[0].set_ylabel(\"Angle [Degree]\")\n",
    "    ax[0].set_ylim(-90,90)\n",
    "    ax[0].set_title(\"ILQG Trajectory on Single-Arm Pendulum\")\n",
    "    ax[0].legend()\n",
    "\n",
    "    ax[1].plot(np.linspace(0,Duration,K)[:-1],uLQG[:,0],label = \"LQG\")\n",
    "    ax[1].plot(np.linspace(0,Duration,K)[:-1],uILQG[:,0],label = \"ILQG\")\n",
    "    ax[1].set_xlabel(\"Time [sec]\")\n",
    "    ax[1].set_ylabel(\"Command (Nm)\")\n",
    "    ax[1].legend()\n",
    "    ax[1].set_title(\"$J_{LQG}$ = \"+str(JLQG)[:6]+\"]\" + \"$,J_{ILQG}$ = \"+str(JILQG)[:6]+\"]\")\n",
    "    return ax\n",
    "\n",
    "def ComputeCost(x,u,w1,w2,r1,targ):\n",
    "    pos = x[-1,0]\n",
    "    vel = x[-1,1]\n",
    "    J = 0\n",
    "    for k in range(K-1):\n",
    "        J+= r1*u[k]*u[k]\n",
    "    J+= w1*(pos-targ)*(pos-targ)+w2*vel*vel\n",
    "    return J"
   ]
  },
  {
   "cell_type": "code",
   "execution_count": null,
   "metadata": {},
   "outputs": [],
   "source": [
    "w1 = 1e6\n",
    "w2 = 1e4\n",
    "r1 = 1e-3\n",
    "Duration = 2\n",
    "xtarg = -pi\n",
    "K = 6000\n",
    "xILQG,uILQG = ILQG(Duration,w1,w2,r1,xtarg,K)\n",
    "xLQG,uLQG = SingleArmLQG(Duration,w1,w2,r1,xtarg,K)\n",
    "JLQG = ComputeCost(xLQG,uLQG,w1,w2,r1,xtarg)\n",
    "JILQG = ComputeCost(xILQG,uILQG,w1,w2,r1,xtarg)\n",
    "ax = plotLQGvsILQG(xLQG,uLQG,xILQG,uILQG,JLQG,JILQG,Duration,xtarg,K)\n",
    "print(\"The Total cost of the LQG is \"+str(JLQG))\n",
    "print(\"The Total cost of the ILQG is \"+str(JILQG))\n",
    "ax[0].set_ylim(-180,180)"
   ]
  }
 ],
 "metadata": {
  "language_info": {
   "name": "python"
  }
 },
 "nbformat": 4,
 "nbformat_minor": 2
}
