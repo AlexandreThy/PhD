{
 "cells": [
  {
   "cell_type": "code",
   "execution_count": null,
   "metadata": {},
   "outputs": [],
   "source": [
    "from Helpers import *"
   ]
  },
  {
   "cell_type": "code",
   "execution_count": null,
   "metadata": {},
   "outputs": [],
   "source": [
    "def f(x,u):\n",
    "    g = 9.81\n",
    "    L = 1\n",
    "    return np.array([x[1],-g/L*sin(x[0])+u])\n",
    "\n",
    "def fx(x,u):\n",
    "    g = 9.81\n",
    "    L = 1\n",
    "    return np.array([[0,1],[-g/L*cos(x[0]),0]])\n",
    "\n",
    "def fu(x,u):\n",
    "    return np.array([0,1])\n",
    "\n",
    "def l(x,u):\n",
    "    return u**2\n",
    "\n",
    "def lx(x,u):\n",
    "    return np.zeros(2)\n",
    "\n",
    "def lu(x,u):\n",
    "    return 2*u\n",
    "\n",
    "def lxx(x,u):\n",
    "    return np.zeros((2,2))\n",
    "\n",
    "def luu(x,u):\n",
    "    return 2\n",
    "\n",
    "def h(x):\n",
    "    return x[0]**2\n",
    "\n",
    "def hx(x):\n",
    "    return np.array([2*x[0],0])\n",
    "\n",
    "def hxx(x):\n",
    "    return np.array([[2,0],[0,0]])"
   ]
  },
  {
   "cell_type": "code",
   "execution_count": null,
   "metadata": {},
   "outputs": [],
   "source": [
    "def step1(x0,u,Duration):\n",
    "    K = np.shape(u)[0]+1\n",
    "    dt = Duration/(K-1)\n",
    "    newx = np.zeros((K,len(x0)))\n",
    "    newx[0] = x0\n",
    "    for i in range(K-1):\n",
    "        newx[i+1] = newx[i] + dt*f(newx[i],u[i])\n",
    "    return newx\n",
    "\n",
    "def step2(x,u,Duration):\n",
    "    K = np.shape(u)[0]+1\n",
    "    dt = Duration/(K-1)\n",
    "    A = np.zeros((K-1,2,2))\n",
    "    B = np.zeros((K-1,2))\n",
    "    q = np.zeros(K)\n",
    "    qbold = np.zeros((K,2))\n",
    "    r = np.zeros(K-1)\n",
    "    Q = np.zeros((K,2,2))\n",
    "    R = np.zeros(K-1)\n",
    "    for i in range(K-1):\n",
    "        A[i] = np.identity(2)+dt*fx(x[i],u[i])\n",
    "        B[i] = dt*fu(x[i],u[i])\n",
    "        q[i] = dt*l(x,u)\n",
    "        qbold[i] = dt*lx(x,u)\n",
    "        r[i] = dt*lu(x,u)\n",
    "        Q[i] = dt*lxx(x,u)\n",
    "        R[i] = dt*luu(x,u)\n",
    "\n",
    "    q[K-1] = h(x)\n",
    "    qbold[K-1] = hx(x)\n",
    "    Q[K-1] = hxx(x)\n",
    "    return A,B,q,qbold,r,Q,R\n",
    "\n",
    "def step3(A,B,q,qbold,r,Q,R):\n",
    "    S = np.zeros((K,2,2))\n",
    "    for i in range(K):\n",
    "\n"
   ]
  }
 ],
 "metadata": {
  "language_info": {
   "name": "python"
  }
 },
 "nbformat": 4,
 "nbformat_minor": 2
}
