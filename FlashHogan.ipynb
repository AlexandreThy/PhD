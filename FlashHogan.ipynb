{
 "cells": [
  {
   "cell_type": "code",
   "execution_count": null,
   "metadata": {},
   "outputs": [],
   "source": [
    "from Helpers import *\n",
    "from FLController import *\n",
    "from ILQGController import *"
   ]
  },
  {
   "cell_type": "code",
   "execution_count": null,
   "metadata": {},
   "outputs": [],
   "source": [
    "start = ToCartesian(np.array([70,70])/180*pi)\n",
    "end = ToCartesian(np.array([-10,100])/180*pi)\n",
    "plt.figure(dpi=600,figsize = (8,8))\n",
    "xILQG,yILQG,uILQG,x = ILQG(.6,1e7,1e4,1e-4,end,60,start,Delay=0)\n",
    "X,Y = Feedback_Linearization(.6,1e7,1e7,1e4,1e4,1e-4,1e-4,end,start,Num_iter=60)"
   ]
  }
 ],
 "metadata": {
  "kernelspec": {
   "display_name": "Python 3",
   "language": "python",
   "name": "python3"
  },
  "language_info": {
   "name": "python",
   "version": "3.11.9"
  }
 },
 "nbformat": 4,
 "nbformat_minor": 2
}
