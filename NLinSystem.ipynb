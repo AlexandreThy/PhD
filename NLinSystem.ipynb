{
 "cells": [
  {
   "cell_type": "code",
   "execution_count": 1,
   "metadata": {},
   "outputs": [],
   "source": [
    "from Controller import *\n",
    "from plot import *"
   ]
  },
  {
   "cell_type": "code",
   "execution_count": 9,
   "metadata": {},
   "outputs": [],
   "source": [
    "def Asum(MovementArray,DurationArray,Func,ylabel,Noise = 1e-16):\n",
    "    SIZE = len(DurationArray)\n",
    "    COLORLQG = \"#F89D36\"\n",
    "    COLORILQG = \"orange\"\n",
    "    COLORFL = \"#8D99AE\"\n",
    "    fig,ax = plt.subplots(figsize = (10,10))\n",
    "\n",
    "    for MovementLength in MovementArray:\n",
    "\n",
    "        max_dev_FL = np.zeros(SIZE)\n",
    "        max_dev_LQG = np.zeros(SIZE)\n",
    "        max_dev_ILQG = np.zeros(SIZE)\n",
    "        N = 5\n",
    "        for _ in range(N):\n",
    "            for idx,Duration in enumerate(DurationArray):\n",
    "\n",
    "                XLQG,YLQG = LQG(Duration,1e6,1e6,1e6,1e6,1e-5,1e-5,targets = [0,20+MovementLength],starting_point = [0,20],plot=False,Noise_Variance=Noise)\n",
    "                XFL,YFL = Feedback_Linearization(Duration,1e6,1e6,1e5,1e5,1e-5,1e-5,targets = [0,20+MovementLength],starting_point = [0,20],plot=False,Noise_Variance=Noise)\n",
    "                XILQG,YILQG,_ = ILQG(Duration,1e6,1e6,1e-3,targets = [0,20+MovementLength],K = 5000,start = [0,20],plot=False)\n",
    "                max_dev_FL[idx] += Func(XFL,YFL)/N\n",
    "                max_dev_LQG[idx] += Func(XLQG,YLQG)/N\n",
    "                max_dev_ILQG[idx] += Func(XILQG,YILQG)/N\n",
    "\n",
    "        if MovementLength ==MovementArray[0]: \n",
    "            plt.plot(DurationArray,max_dev_FL,color = COLORFL,label = \"FL Controller\",alpha = .3, linestyle = \"--\")\n",
    "            plt.plot(DurationArray,max_dev_LQG,color = COLORLQG,label = \"LQG Controller\")\n",
    "            plt.plot(DurationArray,max_dev_ILQG,color = COLORILQG,label = \"ILQG Controller\")\n",
    "        \n",
    "        else : \n",
    "            plt.plot(DurationArray,max_dev_LQG,color = COLORLQG)\n",
    "            plt.plot(DurationArray,max_dev_ILQG,color = COLORILQG)\n",
    "            plt.plot(DurationArray,max_dev_FL,color = COLORFL,alpha = .3, linestyle = \"--\")\n",
    "        ax.text(\n",
    "            -0.03,\n",
    "            max_dev_LQG[0],\n",
    "            str(MovementLength)+\" cm\",\n",
    "            color=COLORLQG,\n",
    "            fontsize = 8,\n",
    "            horizontalalignment=\"left\",\n",
    "            verticalalignment=\"center\",\n",
    "        )\n",
    "        ax.text(\n",
    "            2.23,\n",
    "            max_dev_FL[-1],\n",
    "            str(MovementLength)+\" cm\",\n",
    "            color=COLORFL,\n",
    "            fontsize = 8,\n",
    "            horizontalalignment=\"left\",\n",
    "            verticalalignment=\"center\",\n",
    "            alpha = .3\n",
    "        )\n",
    "        ax.text(\n",
    "            -0.03,\n",
    "            max_dev_ILQG[-1],\n",
    "            str(MovementLength)+\" cm\",\n",
    "            color=COLORILQG,\n",
    "            fontsize = 8,\n",
    "            horizontalalignment=\"left\",\n",
    "            verticalalignment=\"center\",\n",
    "            alpha = .3\n",
    "        )\n",
    "    plt.title(ylabel + \" of hand trajectories in function\\n of movement time\")\n",
    "    plt.xlabel(\"Movement Time [seconds]\")\n",
    "    plt.ylabel(ylabel)\n",
    "\n",
    "    ax.spines[\"right\"].set_visible(False)\n",
    "    ax.spines[\"left\"].set_visible(False)\n",
    "    ax.spines[\"top\"].set_visible(False)\n",
    "\n",
    "        # Only show ticks on the left and bottom spines\n",
    "    ax.yaxis.set_ticks_position(\"left\")\n",
    "    ax.xaxis.set_ticks_position(\"bottom\")\n",
    "\n",
    "\n",
    "    plt.legend()\n",
    "\n",
    "from scipy.integrate import trapezoid\n",
    "\n",
    "def Integration(x,y):\n",
    "    x = np.abs(x)\n",
    "    area = trapezoid(x,y)\n",
    "    area = area/(14*14)\n",
    "    return area"
   ]
  },
  {
   "cell_type": "code",
   "execution_count": 10,
   "metadata": {},
   "outputs": [
    {
     "name": "stdout",
     "output_type": "stream",
     "text": [
      "Total cost of LQG : 3453155\n",
      "Total cost of FL: 231.678\n",
      "Total cost of LQG : 3885334\n",
      "Total cost of FL: 77.3860\n",
      "Total cost of LQG : 1836813\n",
      "Total cost of FL: 69.3752\n",
      "Total cost of LQG : 3734688\n",
      "Total cost of FL: 18.9846\n",
      "Total cost of LQG : 1882216\n",
      "Total cost of FL: 233.032\n",
      "Total cost of LQG : 1994808\n",
      "Total cost of FL: 150.213\n",
      "Total cost of LQG : 2455143\n",
      "Total cost of FL: 594.646\n",
      "Total cost of LQG : 1474317\n",
      "Total cost of FL: 75.4578\n"
     ]
    },
    {
     "name": "stderr",
     "output_type": "stream",
     "text": [
      "d:\\thyriona\\Desktop\\Codes\\FL\\PhD\\Controller.py:491: RuntimeWarning: overflow encountered in subtract\n",
      "  sbold[k] = qbold[k]+A[k].T@sbold[k+1]-G.T@Hinv@gbold\n"
     ]
    },
    {
     "name": "stdout",
     "output_type": "stream",
     "text": [
      "Total cost of LQG : 1044570\n",
      "Total cost of FL: 78.4969\n",
      "Total cost of LQG : 3997057\n",
      "Total cost of FL: 39.8801\n",
      "Total cost of LQG : 1663483\n",
      "Total cost of FL: 428.428\n",
      "Total cost of LQG : 6210671\n",
      "Total cost of FL: 531.771\n"
     ]
    },
    {
     "ename": "KeyboardInterrupt",
     "evalue": "",
     "output_type": "error",
     "traceback": [
      "\u001b[1;31m---------------------------------------------------------------------------\u001b[0m",
      "\u001b[1;31mKeyboardInterrupt\u001b[0m                         Traceback (most recent call last)",
      "Cell \u001b[1;32mIn[10], line 4\u001b[0m\n\u001b[0;32m      1\u001b[0m DurationArray \u001b[38;5;241m=\u001b[39m np\u001b[38;5;241m.\u001b[39mlinspace(\u001b[38;5;241m0.3\u001b[39m,\u001b[38;5;241m1.2\u001b[39m,\u001b[38;5;241m10\u001b[39m)\n\u001b[0;32m      2\u001b[0m MovementArray \u001b[38;5;241m=\u001b[39m [\u001b[38;5;241m14\u001b[39m]\n\u001b[1;32m----> 4\u001b[0m \u001b[43mAsum\u001b[49m\u001b[43m(\u001b[49m\u001b[43mMovementArray\u001b[49m\u001b[43m,\u001b[49m\u001b[43mDurationArray\u001b[49m\u001b[43m,\u001b[49m\u001b[43mIntegration\u001b[49m\u001b[43m,\u001b[49m\u001b[38;5;124;43m\"\u001b[39;49m\u001b[38;5;124;43mAsum\u001b[39;49m\u001b[38;5;124;43m\"\u001b[39;49m\u001b[43m,\u001b[49m\u001b[43mNoise\u001b[49m\u001b[43m \u001b[49m\u001b[38;5;241;43m=\u001b[39;49m\u001b[43m \u001b[49m\u001b[38;5;241;43m1e-6\u001b[39;49m\u001b[43m)\u001b[49m\n\u001b[0;32m      5\u001b[0m plt\u001b[38;5;241m.\u001b[39mplot(DurationArray,np\u001b[38;5;241m.\u001b[39mones(\u001b[38;5;28mlen\u001b[39m(DurationArray))\u001b[38;5;241m*\u001b[39m\u001b[38;5;241m0.02\u001b[39m,color \u001b[38;5;241m=\u001b[39m \u001b[38;5;124m\"\u001b[39m\u001b[38;5;124mred\u001b[39m\u001b[38;5;124m\"\u001b[39m, label \u001b[38;5;241m=\u001b[39m \u001b[38;5;124m\"\u001b[39m\u001b[38;5;124mMean Expected Asum\u001b[39m\u001b[38;5;124m\"\u001b[39m)\n\u001b[0;32m      6\u001b[0m plt\u001b[38;5;241m.\u001b[39mlegend()\n",
      "Cell \u001b[1;32mIn[9], line 19\u001b[0m, in \u001b[0;36mAsum\u001b[1;34m(MovementArray, DurationArray, Func, ylabel, Noise)\u001b[0m\n\u001b[0;32m     17\u001b[0m XLQG,YLQG \u001b[38;5;241m=\u001b[39m LQG(Duration,\u001b[38;5;241m1e6\u001b[39m,\u001b[38;5;241m1e6\u001b[39m,\u001b[38;5;241m1e6\u001b[39m,\u001b[38;5;241m1e6\u001b[39m,\u001b[38;5;241m1e-5\u001b[39m,\u001b[38;5;241m1e-5\u001b[39m,targets \u001b[38;5;241m=\u001b[39m [\u001b[38;5;241m0\u001b[39m,\u001b[38;5;241m20\u001b[39m\u001b[38;5;241m+\u001b[39mMovementLength],starting_point \u001b[38;5;241m=\u001b[39m [\u001b[38;5;241m0\u001b[39m,\u001b[38;5;241m20\u001b[39m],plot\u001b[38;5;241m=\u001b[39m\u001b[38;5;28;01mFalse\u001b[39;00m,Noise_Variance\u001b[38;5;241m=\u001b[39mNoise)\n\u001b[0;32m     18\u001b[0m XFL,YFL \u001b[38;5;241m=\u001b[39m Feedback_Linearization(Duration,\u001b[38;5;241m1e6\u001b[39m,\u001b[38;5;241m1e6\u001b[39m,\u001b[38;5;241m1e5\u001b[39m,\u001b[38;5;241m1e5\u001b[39m,\u001b[38;5;241m1e-5\u001b[39m,\u001b[38;5;241m1e-5\u001b[39m,targets \u001b[38;5;241m=\u001b[39m [\u001b[38;5;241m0\u001b[39m,\u001b[38;5;241m20\u001b[39m\u001b[38;5;241m+\u001b[39mMovementLength],starting_point \u001b[38;5;241m=\u001b[39m [\u001b[38;5;241m0\u001b[39m,\u001b[38;5;241m20\u001b[39m],plot\u001b[38;5;241m=\u001b[39m\u001b[38;5;28;01mFalse\u001b[39;00m,Noise_Variance\u001b[38;5;241m=\u001b[39mNoise)\n\u001b[1;32m---> 19\u001b[0m XILQG,YILQG,_ \u001b[38;5;241m=\u001b[39m \u001b[43mILQG\u001b[49m\u001b[43m(\u001b[49m\u001b[43mDuration\u001b[49m\u001b[43m,\u001b[49m\u001b[38;5;241;43m1e6\u001b[39;49m\u001b[43m,\u001b[49m\u001b[38;5;241;43m1e6\u001b[39;49m\u001b[43m,\u001b[49m\u001b[38;5;241;43m1e-3\u001b[39;49m\u001b[43m,\u001b[49m\u001b[43mtargets\u001b[49m\u001b[43m \u001b[49m\u001b[38;5;241;43m=\u001b[39;49m\u001b[43m \u001b[49m\u001b[43m[\u001b[49m\u001b[38;5;241;43m0\u001b[39;49m\u001b[43m,\u001b[49m\u001b[38;5;241;43m20\u001b[39;49m\u001b[38;5;241;43m+\u001b[39;49m\u001b[43mMovementLength\u001b[49m\u001b[43m]\u001b[49m\u001b[43m,\u001b[49m\u001b[43mK\u001b[49m\u001b[43m \u001b[49m\u001b[38;5;241;43m=\u001b[39;49m\u001b[43m \u001b[49m\u001b[38;5;241;43m5000\u001b[39;49m\u001b[43m,\u001b[49m\u001b[43mstart\u001b[49m\u001b[43m \u001b[49m\u001b[38;5;241;43m=\u001b[39;49m\u001b[43m \u001b[49m\u001b[43m[\u001b[49m\u001b[38;5;241;43m0\u001b[39;49m\u001b[43m,\u001b[49m\u001b[38;5;241;43m20\u001b[39;49m\u001b[43m]\u001b[49m\u001b[43m,\u001b[49m\u001b[43mplot\u001b[49m\u001b[38;5;241;43m=\u001b[39;49m\u001b[38;5;28;43;01mFalse\u001b[39;49;00m\u001b[43m)\u001b[49m\n\u001b[0;32m     20\u001b[0m max_dev_FL[idx] \u001b[38;5;241m+\u001b[39m\u001b[38;5;241m=\u001b[39m Func(XFL,YFL)\u001b[38;5;241m/\u001b[39mN\n\u001b[0;32m     21\u001b[0m max_dev_LQG[idx] \u001b[38;5;241m+\u001b[39m\u001b[38;5;241m=\u001b[39m Func(XLQG,YLQG)\u001b[38;5;241m/\u001b[39mN\n",
      "File \u001b[1;32md:\\thyriona\\Desktop\\Codes\\FL\\PhD\\Controller.py:550\u001b[0m, in \u001b[0;36mILQG\u001b[1;34m(Duration, w1, w2, r1, targets, K, start, plot)\u001b[0m\n\u001b[0;32m    548\u001b[0m \u001b[38;5;28;01mfor\u001b[39;00m _ \u001b[38;5;129;01min\u001b[39;00m \u001b[38;5;28mrange\u001b[39m(\u001b[38;5;241m50\u001b[39m):    \n\u001b[0;32m    549\u001b[0m     x \u001b[38;5;241m=\u001b[39m step1(x0,u,Duration)\n\u001b[1;32m--> 550\u001b[0m     A,B,q,qbold,r,Q,R \u001b[38;5;241m=\u001b[39m \u001b[43mstep2\u001b[49m\u001b[43m(\u001b[49m\u001b[43mx\u001b[49m\u001b[43m,\u001b[49m\u001b[43mu\u001b[49m\u001b[43m,\u001b[49m\u001b[43mDuration\u001b[49m\u001b[43m,\u001b[49m\u001b[43mw1\u001b[49m\u001b[43m,\u001b[49m\u001b[43mw2\u001b[49m\u001b[43m,\u001b[49m\u001b[43mr1\u001b[49m\u001b[43m,\u001b[49m\u001b[43mnp\u001b[49m\u001b[38;5;241;43m.\u001b[39;49m\u001b[43marray\u001b[49m\u001b[43m(\u001b[49m\u001b[43m[\u001b[49m\u001b[43mobj1\u001b[49m\u001b[43m,\u001b[49m\u001b[43mobj2\u001b[49m\u001b[43m]\u001b[49m\u001b[43m)\u001b[49m\u001b[43m)\u001b[49m\n\u001b[0;32m    551\u001b[0m     l,L \u001b[38;5;241m=\u001b[39m step3(A,B,C,cbold,q,qbold,r,Q,R)\n\u001b[0;32m    552\u001b[0m     u_incr \u001b[38;5;241m=\u001b[39m step4(l,L,K,A,B)\n",
      "File \u001b[1;32md:\\thyriona\\Desktop\\Codes\\FL\\PhD\\Controller.py:446\u001b[0m, in \u001b[0;36mstep2\u001b[1;34m(x, u, Duration, w1, w2, r1, xtarg)\u001b[0m\n\u001b[0;32m    444\u001b[0m K \u001b[38;5;241m=\u001b[39m np\u001b[38;5;241m.\u001b[39mshape(u)[\u001b[38;5;241m0\u001b[39m]\u001b[38;5;241m+\u001b[39m\u001b[38;5;241m1\u001b[39m\n\u001b[0;32m    445\u001b[0m dt \u001b[38;5;241m=\u001b[39m Duration\u001b[38;5;241m/\u001b[39m(K\u001b[38;5;241m-\u001b[39m\u001b[38;5;241m1\u001b[39m)\n\u001b[1;32m--> 446\u001b[0m A \u001b[38;5;241m=\u001b[39m np\u001b[38;5;241m.\u001b[39mzeros((K\u001b[38;5;241m-\u001b[39m\u001b[38;5;241m1\u001b[39m,n,n))\n\u001b[0;32m    447\u001b[0m B \u001b[38;5;241m=\u001b[39m np\u001b[38;5;241m.\u001b[39mzeros((K\u001b[38;5;241m-\u001b[39m\u001b[38;5;241m1\u001b[39m,n,m))\n\u001b[0;32m    448\u001b[0m q \u001b[38;5;241m=\u001b[39m np\u001b[38;5;241m.\u001b[39mzeros(K)\n",
      "\u001b[1;31mKeyboardInterrupt\u001b[0m: "
     ]
    },
    {
     "data": {
      "image/png": "[encoded data removed]",
      "text/plain": [
       "<Figure size 1000x1000 with 1 Axes>"
      ]
     },
     "metadata": {},
     "output_type": "display_data"
    }
   ],
   "source": [
    "DurationArray = np.linspace(0.3,1.2,10)\n",
    "MovementArray = [14]\n",
    "\n",
    "Asum(MovementArray,DurationArray,Integration,\"Asum\",Noise = 1e-6)\n",
    "plt.plot(DurationArray,np.ones(len(DurationArray))*0.02,color = \"red\", label = \"Mean Expected Asum\")\n",
    "plt.legend()\n",
    "plt.legend()"
   ]
  }
 ],
 "metadata": {
  "kernelspec": {
   "display_name": ".venv",
   "language": "python",
   "name": "python3"
  },
  "language_info": {
   "codemirror_mode": {
    "name": "ipython",
    "version": 3
   },
   "file_extension": ".py",
   "mimetype": "text/x-python",
   "name": "python",
   "nbconvert_exporter": "python",
   "pygments_lexer": "ipython3",
   "version": "3.11.9"
  }
 },
 "nbformat": 4,
 "nbformat_minor": 2
}
