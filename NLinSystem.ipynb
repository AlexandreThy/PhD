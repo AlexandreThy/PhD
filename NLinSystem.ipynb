{
 "cells": [
  {
   "cell_type": "code",
   "execution_count": 1,
   "metadata": {},
   "outputs": [],
   "source": [
    "from FLController import *\n",
    "from ILQGController import *\n",
    "from LQGController import *\n",
    "from plot import *"
   ]
  },
  {
   "cell_type": "code",
   "execution_count": 8,
   "metadata": {},
   "outputs": [],
   "source": [
    "def Asum(MovementArray,DurationArray,Func,ylabel,Noise = 1e-16):\n",
    "    SIZE = len(DurationArray)\n",
    "    COLORLQG = \"green\"\n",
    "    COLORILQG = \"orange\"\n",
    "    COLORFL = \"#8D99AE\"\n",
    "    fig,ax = plt.subplots(figsize = (10,10))\n",
    "\n",
    "    for MovementLength in MovementArray:\n",
    "\n",
    "        max_dev_FL = np.zeros(SIZE)\n",
    "        max_dev_LQG = np.zeros(SIZE)\n",
    "        max_dev_ILQG = np.zeros(SIZE)\n",
    "        N = 10\n",
    "        \n",
    "        for idx,Duration in enumerate(DurationArray):\n",
    "            \n",
    "            for _ in range(N):\n",
    "                XILQG,YILQG,_,_ = ILQG(Duration,1e6,1e6,1e-3,targets = [0,20+MovementLength],K = int(8000*Duration),start = [0,20],plot=False,Noise=True)\n",
    "                XLQG,YLQG,_ = LQG(Duration,1e6,1e6,1e6,1e6,1e-5,1e-5,targets = [0,20+MovementLength],starting_point = [0,20],plot=False,Activate_Noise=True)\n",
    "                XFL,YFL = Feedback_Linearization(Duration,1e6,1e6,1e5,1e5,1e-5,1e-5,targets = [0,20+MovementLength],starting_point = [0,20],plot=False,Activate_Noise=True)\n",
    "                \n",
    "                max_dev_FL[idx] += Func(XFL,YFL)/N\n",
    "                max_dev_LQG[idx] += Func(XLQG,YLQG)/N\n",
    "                max_dev_ILQG[idx] += Func(XILQG,YILQG)/N\n",
    "            print(idx)\n",
    "\n",
    "        if MovementLength ==MovementArray[0]: \n",
    "            plt.plot(DurationArray,max_dev_FL,color = COLORFL,label = \"FL Controller\",alpha = .3, linestyle = \"--\")\n",
    "            plt.plot(DurationArray,max_dev_LQG,color = COLORLQG,label = \"LQG Controller\")\n",
    "            plt.plot(DurationArray,max_dev_ILQG,color = COLORILQG,label = \"ILQG Controller\")\n",
    "        \n",
    "        else : \n",
    "            plt.plot(DurationArray,max_dev_LQG,color = COLORLQG)\n",
    "            plt.plot(DurationArray,max_dev_ILQG,color = COLORILQG)\n",
    "            plt.plot(DurationArray,max_dev_FL,color = COLORFL,alpha = .3, linestyle = \"--\")\n",
    "    \n",
    "        \n",
    "    plt.title(ylabel + \" of hand trajectories in function\\n of movement time\")\n",
    "    plt.xlabel(\"Movement Time [seconds]\")\n",
    "    plt.ylabel(ylabel)\n",
    "\n",
    "    ax.spines[\"right\"].set_visible(False)\n",
    "    ax.spines[\"left\"].set_visible(False)\n",
    "    ax.spines[\"top\"].set_visible(False)\n",
    "\n",
    "        # Only show ticks on the left and bottom spines\n",
    "    ax.yaxis.set_ticks_position(\"left\")\n",
    "    ax.xaxis.set_ticks_position(\"bottom\")\n",
    "\n",
    "\n",
    "    plt.legend()\n",
    "\n",
    "from scipy.integrate import trapezoid\n",
    "\n",
    "def Integration(x,y):\n",
    "    x = np.abs(x)\n",
    "    area = trapezoid(x,y)\n",
    "    area = area/(14*14)\n",
    "    return area"
   ]
  },
  {
   "cell_type": "code",
   "execution_count": 9,
   "metadata": {},
   "outputs": [
    {
     "ename": "",
     "evalue": "",
     "output_type": "error",
     "traceback": [
      "\u001b[1;31mThe Kernel crashed while executing code in the current cell or a previous cell. \n",
      "\u001b[1;31mPlease review the code in the cell(s) to identify a possible cause of the failure. \n",
      "\u001b[1;31mClick <a href='https://aka.ms/vscodeJupyterKernelCrash'>here</a> for more info. \n",
      "\u001b[1;31mView Jupyter <a href='command:jupyter.viewOutput'>log</a> for further details."
     ]
    }
   ],
   "source": [
    "DurationArray = np.linspace(0.3,1.2,10)\n",
    "MovementArray = [14]\n",
    "\n",
    "Asum(MovementArray,DurationArray,Integration,\"Asum\",Noise = 1e-6)\n",
    "plt.plot(DurationArray,np.ones(len(DurationArray))*0.02,color = \"red\", label = \"Mean Expected Asum\")\n",
    "plt.legend()"
   ]
  }
 ],
 "metadata": {
  "kernelspec": {
   "display_name": "Python 3",
   "language": "python",
   "name": "python3"
  },
  "language_info": {
   "codemirror_mode": {
    "name": "ipython",
    "version": 3
   },
   "file_extension": ".py",
   "mimetype": "text/x-python",
   "name": "python",
   "nbconvert_exporter": "python",
   "pygments_lexer": "ipython3",
   "version": "3.11.9"
  }
 },
 "nbformat": 4,
 "nbformat_minor": 2
}
