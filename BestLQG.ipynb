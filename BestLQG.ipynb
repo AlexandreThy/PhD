{
 "cells": [
  {
   "cell_type": "code",
   "execution_count": 1,
   "metadata": {},
   "outputs": [],
   "source": [
    "from Helpers import *"
   ]
  },
  {
   "cell_type": "code",
   "execution_count": 34,
   "metadata": {},
   "outputs": [
    {
     "data": {
      "text/plain": [
       "[<matplotlib.lines.Line2D at 0x200936d1330>]"
      ]
     },
     "execution_count": 34,
     "metadata": {},
     "output_type": "execute_result"
    },
    {
     "data": {
      "image/png": "[encoded data removed]",
      "text/plain": [
       "<Figure size 432x288 with 1 Axes>"
      ]
     },
     "metadata": {
      "needs_background": "light"
     },
     "output_type": "display_data"
    }
   ],
   "source": [
    "def f(x):\n",
    "    return .1*x**2\n",
    "\n",
    "def A(x):\n",
    "    return .2*x\n",
    "\n",
    "def f2(x):\n",
    "    return .5*x**2\n",
    "\n",
    "def A2(x):\n",
    "    return x\n",
    "\n",
    "x = 1\n",
    "xnl = x\n",
    "xl = x\n",
    "xnlarr = [xnl]\n",
    "xlarr = [xl]\n",
    "y = 1\n",
    "ynl = x\n",
    "yl = x\n",
    "ynlarr = [ynl]\n",
    "ylarr = [yl]\n",
    "dt = .01\n",
    "for i in range(99):\n",
    "    xnl+=dt*f(xnl)\n",
    "    xnlarr.append(xnl)\n",
    "    xl+=dt*A(xnl)*xl\n",
    "    xlarr.append(xl)\n",
    "    ynl+=dt*f2(ynl)\n",
    "    ynlarr.append(ynl)\n",
    "    yl+=dt*A2(ynl)*yl\n",
    "    ylarr.append(yl)\n",
    "\n",
    "plt.plot(xnlarr,ynlarr,color = \"red\",linewidth = 2)\n",
    "plt.plot(xlarr,ylarr,linewidth = 1,color = \"blue\")\n"
   ]
  }
 ],
 "metadata": {
  "kernelspec": {
   "display_name": "Python 3",
   "language": "python",
   "name": "python3"
  },
  "language_info": {
   "codemirror_mode": {
    "name": "ipython",
    "version": 3
   },
   "file_extension": ".py",
   "mimetype": "text/x-python",
   "name": "python",
   "nbconvert_exporter": "python",
   "pygments_lexer": "ipython3",
   "version": "3.10.4"
  }
 },
 "nbformat": 4,
 "nbformat_minor": 2
}
