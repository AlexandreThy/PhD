{
 "cells": [
  {
   "cell_type": "code",
   "execution_count": 1,
   "metadata": {},
   "outputs": [],
   "source": [
    "from SimToVideo import *\n",
    "from FLController import *\n",
    "from ILQGController import *"
   ]
  },
  {
   "cell_type": "code",
   "execution_count": 2,
   "metadata": {},
   "outputs": [
    {
     "data": {
      "text/html": [
       "<video src=\"test.mp4\" controls muted autoplay  width=\"600\"  height=\"600\">\n",
       "      Your browser does not support the <code>video</code> element.\n",
       "    </video>"
      ],
      "text/plain": [
       "<IPython.core.display.Video object>"
      ]
     },
     "metadata": {},
     "output_type": "display_data"
    }
   ],
   "source": [
    "_,_,_,y = Feedback_Linearization(ShowJ = True,plot = False,Num_iter=60)\n",
    "y = y[1:]\n",
    "Produce_ArmVideo(\"test.mp4\",y[:,:2].T,target = [0,.55])"
   ]
  },
  {
   "cell_type": "code",
   "execution_count": 2,
   "metadata": {},
   "outputs": [
    {
     "data": {
      "text/html": [
       "<video src=\"MyFirstExperimentv2.mp4\" controls muted autoplay  width=\"600\"  height=\"600\">\n",
       "      Your browser does not support the <code>video</code> element.\n",
       "    </video>"
      ],
      "text/plain": [
       "<IPython.core.display.Video object>"
      ]
     },
     "metadata": {},
     "output_type": "display_data"
    }
   ],
   "source": [
    "_,_,_,y = ILQG(.5,1e4,1e1,1e-5,ToCartesian(np.array([20,60])*pi/180),50,ToCartesian(np.array([70,110])*pi/180),plot = False)\n",
    "y1 = np.copy(y[1:])\n",
    "_,_,_,y = ILQG(.5,1e4,1e1,1e-5,ToCartesian(np.array([-10,100])*pi/180),50,ToCartesian(np.array([70,70])*pi/180),plot = False)\n",
    "y2 = np.copy(y[1:])\n",
    "Produce_myFirstExperimentVideov2(\"MyFirstExperimentv2.mp4\",y1[:,:2].T,y2[:,:2].T,start = np.array([np.array(ToCartesian(np.array([70,110])*pi/180))/100,np.array(ToCartesian(np.array([70,70])*pi/180))/100]),target = np.array([np.array(ToCartesian(np.array([20,60])*pi/180))/100,np.array(ToCartesian(np.array([-10,100])*pi/180))/100]),frame_rate=30)"
   ]
  }
 ],
 "metadata": {
  "kernelspec": {
   "display_name": "Python 3",
   "language": "python",
   "name": "python3"
  },
  "language_info": {
   "codemirror_mode": {
    "name": "ipython",
    "version": 3
   },
   "file_extension": ".py",
   "mimetype": "text/x-python",
   "name": "python",
   "nbconvert_exporter": "python",
   "pygments_lexer": "ipython3",
   "version": "3.11.9"
  }
 },
 "nbformat": 4,
 "nbformat_minor": 2
}
