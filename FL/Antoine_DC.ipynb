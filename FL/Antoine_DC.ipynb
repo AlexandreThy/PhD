{
 "cells": [
  {
   "cell_type": "markdown",
   "metadata": {},
   "source": [
    "# Target move experiment"
   ]
  },
  {
   "cell_type": "code",
   "execution_count": 11,
   "metadata": {},
   "outputs": [],
   "source": [
    "from Helpers import *"
   ]
  },
  {
   "cell_type": "code",
   "execution_count": 94,
   "metadata": {},
   "outputs": [],
   "source": [
    "def Feedback_Linearization(Duration,w1,w2,w3,w4,r1,r2,targets = [0,50],starting_point = [0,35],plot = True,Noise_Variance = 1e-6,newtonfunc = f,newtondfunc = df,Num_iter = 600,new_target = [10,50], JumpTime = .3,ShowL = False):\n",
    "    \n",
    "    \"\"\"\n",
    "    Duration (float) : Duration of the movement\n",
    "\n",
    "    w1 (float) : Weight associated to the penalty on shoulder angle \n",
    "    \n",
    "    w2 (float) : Weight associated to the penalty on elbow angle \n",
    "\n",
    "    w3 (float) : Weight associated to the penalty on shoulder angular velocity\n",
    "\n",
    "    w4 (float) : Weight associated to the penalty on elbow angular velocity\n",
    "\n",
    "    r1 (float) : Weight associated to the motor cost on shoulder torques\n",
    "\n",
    "    r2 (float) : Weight associated to the motor cost on elbow torques\n",
    "\n",
    "    targets (array of float of size 2): X,Y Position of the end point of the movement\n",
    "        must be a biomechanically feasible end point considering that the shoulder is at (0,0)\n",
    "\n",
    "    starting_point (array of float of size 2): X,Y Position of the starting point of the movement\n",
    "        must be a biomechanically feasible starting point considering that the shoulder is at (0,0)\n",
    "    \n",
    "    plot (boolean) : Allowing plot outputs of the hand trajectory for the experiment\n",
    "\n",
    "    Noise_Variance (float) : Gaussian variance associated to the white noise in the model\n",
    "\n",
    "    ForceField (array of float of size 2) : Shoulder and Elbow Perturbations Torques applied during the movement \n",
    "\n",
    "    ForceFieldSpan (array of float of size 2) : The time span in seconds of the lateral forcefield (to the right)\n",
    "    \"\"\"\n",
    "\n",
    "    dt = Duration/Num_iter \n",
    "\n",
    "    obj1,obj2 = newton(newtonfunc,newtondfunc,1e-8,1000,targets[0],targets[1])\n",
    "    obj3,obj4 = newton(newtonfunc,newtondfunc,1e-8,1000,new_target[0],new_target[1]) #Defini les targets\n",
    "    st1,st2 = newton(newtonfunc,newtondfunc,1e-8,1000,starting_point[0],starting_point[1])\n",
    "\n",
    "    x0 = np.array([st1,0,0,st2,0,0,obj1,obj2])\n",
    "\n",
    "    Num_Var = 8\n",
    "    \n",
    "    #Define Weight Matrices of the cost function\n",
    "    R = np.array([[r1,0],[0,r2]])\n",
    "    Q = np.array([[w1,0,0,0,0,0,-w1,0],[0,w3,0,0,0,0,0,0],[0,0,0,0,0,0,0,0],\n",
    "               [0,0,0,w2,0,0,0,-w2],[0,0,0,0,w4,0,0,0],[0,0,0,0,0,0,0,0],\n",
    "               [0-w1,0,0,0,0,0,w1,0],[0,0,0,-w2,0,0,0,w2]])\n",
    "\n",
    "    \n",
    "    \n",
    "    #Define the Dynamic of the linear system \n",
    "\n",
    "    Kfactor = 1/0.06\n",
    "    A = np.array([[1,dt,0,0,0,0,0,0],[0,1,dt,0,0,0,0,0],[0,0,1,0,0,0,0,0],[0,0,0,1,dt,0,0,0],[0,0,0,0,1,dt,0,0],[0,0,0,0,0,1,0,0],[0,0,0,0,0,0,1,0],[0,0,0,0,0,0,0,1]])\n",
    "    B = np.array([[0,0],[0,0],[dt,0],[0,0],[0,0],[0,dt],[0,0],[0,0]])\n",
    "    \n",
    "    \n",
    "    #Compute the Feedback Gain of the Control law\n",
    "    S = Q\n",
    "\n",
    "    \n",
    "    array_L = np.zeros((Num_iter-1,2,Num_Var))   \n",
    "    array_S = np.zeros((Num_iter,Num_Var,Num_Var)) \n",
    "    array_S[-1] = Q\n",
    "    for k in range(Num_iter-1):\n",
    "        L = np.linalg.inv(R+B.T@S@B)@B.T@S@A\n",
    "        array_L[Num_iter-2-k] = L\n",
    "        S = Q+A.T@S@(A-B@L)\n",
    "        array_S[Num_iter-2-k] = S\n",
    "    \n",
    "    #Initialize matrices \n",
    "\n",
    "    sigma = np.identity(Num_Var)*10**-6 \n",
    "    H,L = np.identity(8),array_L\n",
    "    if ShowL:\n",
    "        for u in range(2):\n",
    "            for k in range(Num_Var):\n",
    "                plt.plot(np.linspace(0,Duration,Num_iter-1),L[:,u,k])\n",
    "            plt.show()\n",
    "    #Initialize the arrays to stock the simulations \n",
    "    array_xhat = np.zeros((Num_iter,Num_Var))\n",
    "    array_x_nonlin = np.zeros((Num_iter,Num_Var-2)) \n",
    "    y = np.zeros((Num_iter,Num_Var))\n",
    "\n",
    "    #Initialize the state vectors of the linear system\n",
    "    array_xhat[0] = x0.flatten()\n",
    "    xhat = np.copy(x0)\n",
    "    x_true = np.copy(x0)\n",
    "\n",
    "    #Initialize the state vectors of the nonlinear system\n",
    "    x_nonlin = np.zeros(Num_Var-2)\n",
    "    x_nonlin[0],x_nonlin[1] = x0[0],x0[3]\n",
    "\n",
    "    new_x_nonlin = np.copy(x_nonlin)\n",
    "\n",
    "    #Perform the task\n",
    "    Reach = False\n",
    "\n",
    "    for k in range(Num_iter-1):\n",
    "\n",
    "        #Compute the matrices of the system in function of the current state \n",
    "\n",
    "        \n",
    "        Omega_sens,motor_noise,Omega_measure,measure_noise = Compute_Noise(Num_Var,Noise_Variance)\n",
    "            \n",
    "        C = np.array([-x_nonlin[3]*(2*x_nonlin[2]+x_nonlin[3])*a2*np.sin(x_nonlin[1]),x_nonlin[2]*x_nonlin[2]*a2*np.sin(x_nonlin[1])])\n",
    "        Denominator = a3*(a1-a3)-a2*a2*np.cos(x_nonlin[1])*np.cos(x_nonlin[1])\n",
    "        Minv = np.array([[a3/Denominator,(-a2*np.cos(x_nonlin[1])-a3)/Denominator],[(-a2*np.cos(x_nonlin[1])-a3)/Denominator,(2*a2*np.cos(x_nonlin[1])+a1)/Denominator]])\n",
    "        \n",
    "        Denominator = a3*(a1-a3)-a2*a2*np.cos(xhat[3])*np.cos(xhat[3])\n",
    "        M = np.array([[a1+2*a2*cos(xhat[3]),a3+a2*cos(xhat[3])],[a3+a2*cos(xhat[3]),a3]])\n",
    "        Minvdot = np.array([[-a3*a2*a2*sin(2*xhat[3])*xhat[4]/(Denominator*Denominator),\n",
    "                             (a2*sin(xhat[3])*xhat[4]*Denominator+(a2*cos(xhat[3])+a3)*a2*a2*sin(2*xhat[3])*xhat[4])/(Denominator*Denominator)],\n",
    "                            [(a2*sin(xhat[3])*xhat[4]*Denominator+(a2*cos(xhat[3])+a3)*a2*a2*sin(2*xhat[3])*xhat[4])/(Denominator*Denominator),\n",
    "                            (-2*a2*sin(xhat[3])*xhat[4]*Denominator+(2*a2*cos(xhat[3])+a1)*a2*a2*sin(2*xhat[3])*xhat[4])/(Denominator*Denominator)]])\n",
    "            \n",
    "        Cdot = np.array([-a2*xhat[5]*(2*xhat[1]+xhat[4])*sin(xhat[3])-a2*xhat[4]*(2*xhat[2]+xhat[5])*sin(xhat[3])\n",
    "                         -a2*xhat[4]*xhat[4]*(2*xhat[1]+xhat[4])*cos(xhat[3]),2*xhat[1]*xhat[2]*a2*sin(xhat[3])+xhat[1]*xhat[1]*a2*cos(xhat[3])*xhat[4]])\n",
    "        \n",
    "        COLORS = \"red\"\n",
    "        LABEL = \"Feedback Linearization\"\n",
    "\n",
    "\n",
    "        # Compute the command \n",
    "\n",
    "        v = -L[k].reshape(np.flip(B.shape))@xhat\n",
    "        u = 1/Kfactor*M@(v)-1/Kfactor*M@Minvdot@M@(np.array([xhat[2],xhat[5]]))+M@(np.array([xhat[2],xhat[5]]))+C+Bdyn@np.array([xhat[1],xhat[4]])+1/Kfactor*Cdot+1/Kfactor*Bdyn@np.array([xhat[2],xhat[5]])\n",
    "        # True state of the system\n",
    "        new_x_nonlin[0:2] += dt*x_nonlin[2:4]\n",
    "        new_x_nonlin[2:4] += dt*(Minv@(x_nonlin[4:6]-Bdyn@(x_nonlin[2:4])-C))  \n",
    "        new_x_nonlin[4:6] += dt*Kfactor*(u-x_nonlin[4:6])\n",
    "            \n",
    "        array_xhat[k+1] = xhat.flatten()\n",
    "        array_x_nonlin[k+1] = new_x_nonlin.flatten()\n",
    "\n",
    "        y[k] = (H@x_true+measure_noise).flatten()\n",
    "        #Change of variable \n",
    "        \n",
    "\n",
    "        #Perform Iteration \n",
    "        \n",
    "        K = A@sigma@H.T@np.linalg.inv(H@sigma@H.T+Omega_measure)\n",
    "        sigma = Omega_sens + (A - K@H)@sigma@A.T\n",
    "        #print(y[k]-H@x_internalmodel)\n",
    "        xhat = A@xhat+B@v + K@(y[k]-H@xhat)\n",
    "\n",
    "        x_true = np.array([new_x_nonlin[0],new_x_nonlin[2],x_true[2]+dt*v[0],new_x_nonlin[1],new_x_nonlin[3],x_true[5]+dt*v[1],x_true[6],x_true[7]])\n",
    "        if dt*k > JumpTime: \n",
    "            x_true[6:8] = [obj3,obj4]\n",
    "            xhat[6:8] = [obj3,obj4]\n",
    "\n",
    "        x_nonlin = np.copy(new_x_nonlin)\n",
    "        X = np.cos(x_nonlin[0]+x_nonlin[1])*33+np.cos(x_nonlin[0])*30\n",
    "        Y = np.sin(x_nonlin[0]+x_nonlin[1])*33+np.sin(x_nonlin[0])*30\n",
    "        if (np.sqrt((X-targets[0])**2+(Y-targets[1])**2) < 1) and (Reach == False):\n",
    "            Reach = True\n",
    "            print(\"The subject has reached the first target in \",k*dt,\" seconds\\n\")\n",
    "        \n",
    "        if (np.sqrt((X-new_target[0])**2+(Y-new_target[1])**2) < 1) and (Reach == False):\n",
    "            Reach = True\n",
    "            print(\"The subject has reached the target after the jump in \",k*dt,\" seconds\\n\")\n",
    "        #print(array_x_true[k-1,2],((array_x_true[k]-array_x_true[k-1])/dt)[1])   \n",
    "\n",
    "    #Change of coordinates from angular to cartesian \n",
    "    x_nonlin = array_x_nonlin.T[:,1:][:,::1]\n",
    "    X = np.cos(x_nonlin[0]+x_nonlin[1])*33+np.cos(x_nonlin[0])*30\n",
    "    Y = np.sin(x_nonlin[0]+x_nonlin[1])*33+np.sin(x_nonlin[0])*30\n",
    "\n",
    "    #Plotting\n",
    "    if plot : \n",
    "        plt.grid(linestyle='--')\n",
    "        plt.axis(\"equal\")\n",
    "        plt.plot(X,Y,color = COLORS,label = LABEL,linewidth = .8)\n",
    "        plt.xlabel(\"X [cm]\")\n",
    "        plt.ylabel(\"Y [cm]\")\n",
    "        plt.scatter([starting_point[0],targets[0],new_target[0]],[starting_point[1],targets[1],new_target[1]],color = \"black\")\n",
    "    #print(\"Optimum values \" + str(J1)[:8]+\" and \"+str(J2)[:8])\n",
    "\n",
    "    \n",
    "    return X,Y"
   ]
  },
  {
   "cell_type": "code",
   "execution_count": 95,
   "metadata": {},
   "outputs": [
    {
     "data": {
      "image/png": "[encoded data removed]",
      "text/plain": [
       "<Figure size 432x288 with 1 Axes>"
      ]
     },
     "metadata": {
      "needs_background": "light"
     },
     "output_type": "display_data"
    },
    {
     "data": {
      "image/png": "[encoded data removed]",
      "text/plain": [
       "<Figure size 432x288 with 1 Axes>"
      ]
     },
     "metadata": {
      "needs_background": "light"
     },
     "output_type": "display_data"
    },
    {
     "name": "stdout",
     "output_type": "stream",
     "text": [
      "The subject has reached the first target in  0.5  seconds\n",
      "\n"
     ]
    },
    {
     "data": {
      "image/png": "[encoded data removed]",
      "text/plain": [
       "<Figure size 432x288 with 1 Axes>"
      ]
     },
     "metadata": {
      "needs_background": "light"
     },
     "output_type": "display_data"
    }
   ],
   "source": [
    "X,Y = Feedback_Linearization(20,3*1e6,3*1e6,1e5,1e5,1e-5,1e-5,JumpTime=20,ShowL = True)"
   ]
  },
  {
   "cell_type": "code",
   "execution_count": 100,
   "metadata": {},
   "outputs": [
    {
     "name": "stdout",
     "output_type": "stream",
     "text": [
      "The subject has reached the first target in  0.5  seconds\n",
      "\n"
     ]
    },
    {
     "data": {
      "image/png": "[encoded data removed]",
      "text/plain": [
       "<Figure size 432x288 with 1 Axes>"
      ]
     },
     "metadata": {
      "needs_background": "light"
     },
     "output_type": "display_data"
    }
   ],
   "source": [
    "X,Y = Feedback_Linearization(20,3*1e6,3*1e6,1e5,1e5,1e-5,1e-5,JumpTime=.4)"
   ]
  }
 ],
 "metadata": {
  "kernelspec": {
   "display_name": "Python 3",
   "language": "python",
   "name": "python3"
  },
  "language_info": {
   "codemirror_mode": {
    "name": "ipython",
    "version": 3
   },
   "file_extension": ".py",
   "mimetype": "text/x-python",
   "name": "python",
   "nbconvert_exporter": "python",
   "pygments_lexer": "ipython3",
   "version": "3.10.4"
  }
 },
 "nbformat": 4,
 "nbformat_minor": 2
}
